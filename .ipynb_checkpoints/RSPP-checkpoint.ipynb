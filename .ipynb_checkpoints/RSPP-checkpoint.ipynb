{
 "cells": [
  {
   "cell_type": "markdown",
   "id": "d199eaa3-fd24-49ed-b896-068ca632240c",
   "metadata": {},
   "source": [
    "# King County Real Estate Price Analysis and Prediction.\n",
    "## Dataset used from Kaggle\n",
    "**This dataset contains house sale prices for King County, which includes Seattle. It includes homes sold between May 2014 and May 2015.**\n",
    "*Link : https://www.kaggle.com/datasets/harlfoxem/housesalesprediction?resource=download*"
   ]
  },
  {
   "cell_type": "code",
   "execution_count": 1,
   "id": "5a05afd9-5864-4d51-899a-ef47243a44b6",
   "metadata": {},
   "outputs": [],
   "source": [
    "#Import required libraries\n",
    "import pandas as pd\n",
    "import matplotlib.pyplot as plt\n",
    "import numpy as np\n",
    "import seaborn as sns\n",
    "from sklearn.preprocessing import PolynomialFeatures\n",
    "from sklearn.linearmodel import LinearRegression\n",
    "from sklearn.metrics import mean_squared_error"
   ]
  },
  {
   "cell_type": "code",
   "execution_count": null,
   "id": "c9b0453b-a1a9-4a9f-8484-c61a3b4aa83f",
   "metadata": {},
   "outputs": [],
   "source": []
  },
  {
   "cell_type": "code",
   "execution_count": null,
   "id": "72ec2cbb-4176-44d0-bd14-fbccbd168c22",
   "metadata": {},
   "outputs": [],
   "source": []
  }
 ],
 "metadata": {
  "kernelspec": {
   "display_name": "Python 3 (ipykernel)",
   "language": "python",
   "name": "python3"
  },
  "language_info": {
   "codemirror_mode": {
    "name": "ipython",
    "version": 3
   },
   "file_extension": ".py",
   "mimetype": "text/x-python",
   "name": "python",
   "nbconvert_exporter": "python",
   "pygments_lexer": "ipython3",
   "version": "3.13.1"
  }
 },
 "nbformat": 4,
 "nbformat_minor": 5
}
